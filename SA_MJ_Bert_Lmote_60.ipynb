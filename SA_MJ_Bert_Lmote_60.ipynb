{
  "nbformat": 4,
  "nbformat_minor": 0,
  "metadata": {
    "colab": {
      "name": "SA-MJ Bert Lmote 60.ipynb",
      "provenance": [],
      "collapsed_sections": []
    },
    "kernelspec": {
      "name": "python3",
      "display_name": "Python 3"
    },
    "accelerator": "GPU"
  },
  "cells": [
    {
      "cell_type": "code",
      "metadata": {
        "id": "tuPGZGPjHt5H",
        "colab_type": "code",
        "colab": {}
      },
      "source": [
        "!apt install graphviz\n",
        "!pip install pydot pydot-ng\n",
        "!python -c \"import pydot\"\n",
        "\n",
        "import pandas as pd\n",
        "import numpy as np\n",
        "import matplotlib.pyplot as plt\n",
        "\n",
        "from tensorflow.keras.utils import plot_model\n",
        "from IPython.display import Image\n",
        "\n",
        "%matplotlib inline\n",
        "pd.set_option('display.max_colwidth',300)\n",
        "plt.rcParams[\"figure.figsize\"][0]=12\n",
        "\n",
        "from sklearn.metrics import accuracy_score,f1_score\n",
        "\n",
        "# # FOR BERT EMBEDDINGS\n",
        "!pip install bert-for-tf2\n",
        "!pip install sentencepiece\n",
        "import bert\n",
        "from bert import BertModelLayer\n",
        "from bert.loader import StockBertConfig, map_stock_config_to_params, load_stock_weights\n",
        "from bert.tokenization.bert_tokenization import FullTokenizer\n",
        "import os"
      ],
      "execution_count": null,
      "outputs": []
    },
    {
      "cell_type": "code",
      "metadata": {
        "id": "PD-csfXw6gkr",
        "colab_type": "code",
        "colab": {
          "base_uri": "https://localhost:8080/",
          "height": 85
        },
        "outputId": "d05c86c0-c7d9-4479-f28e-0e879439bcac"
      },
      "source": [
        "import pickle\n",
        "train_data = pickle.load(open('/content/drive/My Drive/tempData/train_clean_lmote.data','rb')) \n",
        "valid_data = pickle.load(open('/content/drive/My Drive/tempData/valid_clean.data','rb'))\n",
        "test_data = pickle.load(open('/content/drive/My Drive/tempData/test_clean.data','rb')) \n",
        "\n",
        "# Sequences are sent as int32 in Input layer!\n",
        "# of np array and of float 32 type!\n",
        "y_train=np.asarray(train_data['label']).astype(np.float32)\n",
        "y_valid=np.asarray(valid_data['label']).astype(np.float32)\n",
        "y_test=np.asarray(test_data['label']).astype(np.float32)\n",
        "\n",
        "print(train_data.shape,test_data.shape,valid_data.shape)\n",
        "print(train_data['label'].value_counts(normalize = True))"
      ],
      "execution_count": null,
      "outputs": [
        {
          "output_type": "stream",
          "text": [
            "(12830, 4) (592, 4) (833, 4)\n",
            "1    0.5\n",
            "0    0.5\n",
            "Name: label, dtype: float64\n"
          ],
          "name": "stdout"
        }
      ]
    },
    {
      "cell_type": "code",
      "metadata": {
        "id": "syl45NHOd4fn",
        "colab_type": "code",
        "colab": {}
      },
      "source": [
        "# # USING BERT AS A SERVICE\n",
        "# !pip install tensorflow==1.13.1\n",
        "\n",
        "# # Needs to use GPU to run\n",
        "# # if not set pooling strategy to noe then we get either reduced mean, dot prod.. res as BATCHSZ*786 \n",
        "# !wget https://storage.googleapis.com/bert_models/2018_10_18/uncased_L-12_H-768_A-12.zip \n",
        "# !unzip uncased_L-12_H-768_A-12.zip\n",
        "# !pip install bert-serving-server  # server\n",
        "# !pip install bert-serving-client  # client, independent of `bert-serving-server`\n",
        "# !nohup bert-serving-start -model_dir=/content/uncased_L-12_H-768_A-12/ -num_worker=4 -max_seq_len=50 -pooling_strategy=NONE > out.file &\n",
        "\n",
        "# !bert-serving-terminate -port 5555\n",
        "# !tail -f out.file\n",
        "# from bert_serving.client import BertClient\n",
        "# bc = BertClient()\n",
        "# # token level embeddings if pooling strategy is none\n",
        "# em = bc.encode(['First do it', 'then do it right', 'then do it better'])\n",
        "# print(type(em),em)\n",
        "# em.shape\n",
        "\n",
        "# # remove empty ones\n",
        "# sugg  = ''\n",
        "# nonsugg = ''\n",
        "\n",
        "# for i in range(len(train_data['cleaned'])):\n",
        "#   if len(train_data['cleaned'][i])!=0:\n",
        "#     if y_train[i]==1:\n",
        "#       sugg = train_data['cleaned'][i]\n",
        "#       break\n",
        "\n",
        "# for i in range(len(train_data['cleaned'])):\n",
        "#   if len(train_data['cleaned'][i])!=0:\n",
        "#     if y_train[i]==0:\n",
        "#       nonsugg = train_data['cleaned'][i]\n",
        "#       break\n",
        "\n",
        "# print(sugg)\n",
        "# print(nonsugg)\n",
        "\n",
        "# for i in range(len(train_data['cleaned'])):\n",
        "#   if len(train_data['cleaned'][i])==0:\n",
        "#     if y_train[i]==0:\n",
        "#       train_data['cleaned'][i]=nonsugg\n",
        "#     else: \n",
        "#       train_data['cleaned'][i]=sugg\n",
        "\n",
        "# x_test = bc.encode([x for x in test_data['cleaned']]) # ~ 4sec\n",
        "# x_valid = bc.encode([x for x in valid_data['cleaned']]) # ~6.5sec\n",
        "# x_train = bc.encode([x for x in train_data['cleaned']]) # ~1.45mins"
      ],
      "execution_count": null,
      "outputs": []
    },
    {
      "cell_type": "code",
      "metadata": {
        "id": "o-qyjN_z_CN9",
        "colab_type": "code",
        "colab": {}
      },
      "source": [
        "# Using BERT as a Layer\n",
        "# if not set pooling strategy to noe then we get either reduced mean, dot prod.. res as BATCHSZ*786 \n",
        "\n",
        "!wget https://storage.googleapis.com/bert_models/2018_10_18/uncased_L-12_H-768_A-12.zip # BERT BASE MODEL\n",
        "!unzip uncased_L-12_H-768_A-12.zip\n",
        "\n",
        "model_dir = \"uncased_L-12_H-768_A-12\"\n",
        "bert_model_file = os.path.join(model_dir, \"bert_model.ckpt\")\n",
        "bert_config_file = os.path.join(model_dir, \"bert_config.json\")\n",
        "tokenizer = FullTokenizer(vocab_file=os.path.join(model_dir, \"vocab.txt\"))"
      ],
      "execution_count": null,
      "outputs": []
    },
    {
      "cell_type": "code",
      "metadata": {
        "id": "NdGLimXW2yi4",
        "colab_type": "code",
        "colab": {
          "base_uri": "https://localhost:8080/",
          "height": 34
        },
        "outputId": "0d1591ec-0486-48b3-97f7-4e57115164eb"
      },
      "source": [
        "def generateSequence(sentences,max_seq_len):\n",
        "  token_id_sequences=[]\n",
        "  for sentence in sentences:\n",
        "      tokens = tokenizer.tokenize(sentence)\n",
        "      tokens = [\"[CLS]\"] + tokens + [\"[SEP]\"] # TO HELP BERT CONSIDER IT AS A SINGLE SENTENCE\n",
        "      token_indexes = tokenizer.convert_tokens_to_ids(tokens)\n",
        "      max_seq_len = max(max_seq_len, len(token_indexes))\n",
        "      token_id_sequences.append(token_indexes)\n",
        "  return np.array(token_id_sequences),max_seq_len;\n",
        "  \n",
        "max_seq_len=0\n",
        "train_sequences,max_seq_len = generateSequence(train_data['cleaned'],max_seq_len)\n",
        "test_sequences,max_seq_len = generateSequence(test_data['cleaned'],max_seq_len)\n",
        "valid_sequences,max_seq_len = generateSequence(valid_data['cleaned'],max_seq_len)\n",
        "\n",
        "# PAD SEQUENCES\n",
        "max_seq_len =  60\n",
        "# increasing mxlen does not gurantees higher acc!\n",
        "\n",
        "def pad(token_id_sequences):\n",
        "  final_sequences = []\n",
        "  for input_ids in token_id_sequences:\n",
        "    input_ids = input_ids[:min(len(input_ids), max_seq_len - 2)]\n",
        "    input_ids = input_ids + [0] * (max_seq_len - len(input_ids))\n",
        "    final_sequences.append(np.array(input_ids))\n",
        "  return np.array(final_sequences)\n",
        "\n",
        "x_train_sequences = pad(train_sequences)\n",
        "x_valid_sequences = pad(valid_sequences)\n",
        "x_test_sequences =  pad(test_sequences) \n",
        "\n",
        "print(x_train_sequences.shape,x_test_sequences.shape,x_valid_sequences.shape)"
      ],
      "execution_count": null,
      "outputs": [
        {
          "output_type": "stream",
          "text": [
            "(12830, 60) (592, 60) (833, 60)\n"
          ],
          "name": "stdout"
        }
      ]
    },
    {
      "cell_type": "code",
      "metadata": {
        "id": "kKBFcJpdMgYB",
        "colab_type": "code",
        "colab": {}
      },
      "source": [
        "##################################################################################################\n",
        "####### ENSEMBLE CLASSIFIER  => CNN + ATTENTION MODEL + BILSTM BASED TEXT RCNN #########\n",
        "##################################################################################################\n",
        "\n",
        "from tensorflow.keras.layers import Input, Dense, Dropout\n",
        "from tensorflow.keras.layers import Dense, Conv1D, GlobalMaxPooling1D,concatenate\n",
        "from tensorflow.keras.layers import LSTM,Flatten,RepeatVector,Permute,Activation,Multiply,Lambda\n",
        "from tensorflow.keras.layers import GlobalAveragePooling1D, GlobalMaxPool1D,Bidirectional,TimeDistributed\n",
        "from tensorflow.keras.backend import sum as Ksum\n",
        "from tensorflow.keras.models import Model\n",
        "\n",
        "from tensorflow.keras.optimizers import Adam\n",
        "from tensorflow.keras.losses import SparseCategoricalCrossentropy\n",
        "from tensorflow.keras.metrics import SparseCategoricalAccuracy\n",
        "\n",
        "import tensorflow\n",
        "\n",
        "UNITS = 256\n",
        "UNITS_HF = 128\n",
        "\n",
        "with tensorflow.io.gfile.GFile(bert_config_file, \"r\") as reader:                # LOAD BERT CONFIGURATION...............\n",
        "    bc = StockBertConfig.from_json_string(reader.read())\n",
        "    bert_params = map_stock_config_to_params(bc)\n",
        "    bert_params.adapter_size = None\n",
        "    bert = BertModelLayer.from_params(bert_params, name=\"bert\")\n",
        "\n",
        "input_layer= Input(shape=(max_seq_len,), dtype='int32')                         # THE INPUT LAYER \n",
        "bert_layer =    bert(input_layer)                                               # THE BERT EMBEDDINGS \n",
        "\n",
        "# PART 1 - CNN CLASSIFIER \n",
        "conv1 = Conv1D(UNITS_HF, 3, activation='relu',name=\"Conv1D_1\")(bert_layer)      \n",
        "conv1 = GlobalMaxPooling1D(name=\"GMaxPOOL1\")(conv1)\n",
        "conv2 = Conv1D(UNITS_HF, 4, activation='relu',name=\"Conv1D_2\")(bert_layer)        \n",
        "conv2 = GlobalMaxPooling1D(name=\"GMaxPOOL2\")(conv2)\n",
        "cnn = concatenate([conv1,conv2],name=\"CNNConcat\") \n",
        "\n",
        "# PART 2 - LSTM ATTENTION CLASSIFIER\n",
        "lstm_layer = LSTM(UNITS,name=\"LSTM1\")(bert_layer)                               \n",
        "attention = Dense(1, activation='tanh',name=\"Dense1\")(lstm_layer)\n",
        "attention = Flatten(name=\"Flatten1\")(attention)\n",
        "attention = Activation('softmax')(attention)\n",
        "attention = RepeatVector(UNITS,name=\"RepeatVec1\")(attention)\n",
        "attention = Permute([2, 1],name=\"Permute1\")(attention)\n",
        "sent_representation = Multiply(name=\"AttentionFin\")([lstm_layer, attention])\n",
        "rnn_attention = Lambda(lambda xin: Ksum(xin, axis=-2), output_shape=(UNITS,),name=\"RNNAttention\")(sent_representation)\n",
        "\n",
        "# PART 3 - BILSTM BASED TEXT RCNN CLASSIFIER\n",
        "bilstm_layer = Bidirectional(LSTM(128, activation=\"relu\",return_sequences=True,name='LSTM2'),name='BI')(bert_layer)\n",
        "bilstm_layer = TimeDistributed(Dense(UNITS, activation='relu',name='Dense2'),name='TimeDis')(bilstm_layer)\n",
        "conv_layer_1 = Conv1D(UNITS_HF, 3, activation='relu')(bilstm_layer)        \n",
        "avg_pool_layer = GlobalAveragePooling1D(name='GAvgPool1')(conv_layer_1)\n",
        "conv_layer_2 = Conv1D(UNITS_HF, 4, activation='relu',name='Conv1D3')(bilstm_layer)        \n",
        "max_pool_layer = GlobalMaxPooling1D(name='GMaxPool3')(conv_layer_2)\n",
        "rcnn = concatenate([avg_pool_layer,max_pool_layer]) \n",
        "\n",
        "# ENSEMBLE CLASSIFIER\n",
        "combined_layer = concatenate([cnn,rnn_attention,rcnn],name='EnsembleConcat')\n",
        "dense_layer = Dense(UNITS,name = 'DenseCombined')(combined_layer)\n",
        "dense_final = Dense(UNITS_HF,activation=\"tanh\",name = 'DenseFinal')(dense_layer)\n",
        "# dropout_layer =  Dropout(0.4)(dense_layer)\n",
        "output_layer = Dense(2, activation='softmax',name='OutputLayer')(dense_final)\n",
        "\n",
        "# the model works well with the softmax layer output and so multilabel\n",
        "# it does not trains of simple 1 dense output class\n",
        "\n",
        "# SUMMARY \n",
        "ensemble_model = Model(input_layer,output_layer)\n",
        "load_stock_weights(bert, bert_model_file)                                       # LOADING BERT WEIGHTS TO THE MODEL\n",
        "\n",
        "ensemble_model.compile(\n",
        "  optimizer=Adam(1e-5),\n",
        "  loss=SparseCategoricalCrossentropy(from_logits=True),                         # Can be greater than 1\n",
        "  metrics=[SparseCategoricalAccuracy(name=\"acc\")]\n",
        ")\n",
        "\n",
        "# DISPLAY\n",
        "plot_model(ensemble_model, show_shapes=True, show_layer_names=True, to_file='ensemble_model.png')\n",
        "Image(retina=True, filename='ensemble_model.png')"
      ],
      "execution_count": null,
      "outputs": []
    },
    {
      "cell_type": "code",
      "metadata": {
        "id": "4_Ypwy083PM9",
        "colab_type": "code",
        "colab": {
          "base_uri": "https://localhost:8080/",
          "height": 530
        },
        "outputId": "72063b7f-6545-4954-b817-27fad4d136b5"
      },
      "source": [
        "# TRAINING................\n",
        "EPOCHS = 7\n",
        "BATCH_SIZE = 100\n",
        "history = ensemble_model.fit(\n",
        "    x_train_sequences,y_train,\n",
        "    epochs=EPOCHS,     \n",
        "    validation_data=(x_valid_sequences, y_valid), \n",
        "    batch_size=BATCH_SIZE,\n",
        "    shuffle=True\n",
        ")"
      ],
      "execution_count": null,
      "outputs": [
        {
          "output_type": "stream",
          "text": [
            "WARNING:tensorflow:Layer LSTM2 will not use cuDNN kernel since it doesn't meet the cuDNN kernel criteria. It will use generic GPU kernel as fallback when running on GPU\n",
            "WARNING:tensorflow:Layer LSTM2 will not use cuDNN kernel since it doesn't meet the cuDNN kernel criteria. It will use generic GPU kernel as fallback when running on GPU\n",
            "WARNING:tensorflow:Layer LSTM2 will not use cuDNN kernel since it doesn't meet the cuDNN kernel criteria. It will use generic GPU kernel as fallback when running on GPU\n",
            "Done loading 196 BERT weights from: uncased_L-12_H-768_A-12/bert_model.ckpt into <bert.model.BertModelLayer object at 0x7fed81f56240> (prefix:bert_6). Count of weights not found in the checkpoint was: [0]. Count of weights with mismatched shape: [0]\n",
            "Unused weights from checkpoint: \n",
            "\tbert/embeddings/token_type_embeddings\n",
            "\tbert/pooler/dense/bias\n",
            "\tbert/pooler/dense/kernel\n",
            "\tcls/predictions/output_bias\n",
            "\tcls/predictions/transform/LayerNorm/beta\n",
            "\tcls/predictions/transform/LayerNorm/gamma\n",
            "\tcls/predictions/transform/dense/bias\n",
            "\tcls/predictions/transform/dense/kernel\n",
            "\tcls/seq_relationship/output_bias\n",
            "\tcls/seq_relationship/output_weights\n",
            "Epoch 1/7\n",
            "129/129 [==============================] - 141s 1s/step - loss: 0.6102 - acc: 0.6760 - val_loss: 0.5674 - val_acc: 0.7263\n",
            "Epoch 2/7\n",
            "129/129 [==============================] - 138s 1s/step - loss: 0.5109 - acc: 0.7956 - val_loss: 0.5508 - val_acc: 0.7467\n",
            "Epoch 3/7\n",
            "129/129 [==============================] - 138s 1s/step - loss: 0.4667 - acc: 0.8417 - val_loss: 0.4824 - val_acc: 0.8235\n",
            "Epoch 4/7\n",
            "129/129 [==============================] - 139s 1s/step - loss: 0.4426 - acc: 0.8677 - val_loss: 0.5198 - val_acc: 0.7875\n",
            "Epoch 5/7\n",
            "129/129 [==============================] - 138s 1s/step - loss: 0.4217 - acc: 0.8889 - val_loss: 0.4667 - val_acc: 0.8379\n",
            "Epoch 6/7\n",
            "129/129 [==============================] - 139s 1s/step - loss: 0.4036 - acc: 0.9080 - val_loss: 0.5180 - val_acc: 0.7863\n",
            "Epoch 7/7\n",
            "129/129 [==============================] - 139s 1s/step - loss: 0.3932 - acc: 0.9192 - val_loss: 0.4677 - val_acc: 0.8379\n"
          ],
          "name": "stdout"
        }
      ]
    },
    {
      "cell_type": "code",
      "metadata": {
        "id": "w7WU3MwQ6tLC",
        "colab_type": "code",
        "colab": {
          "base_uri": "https://localhost:8080/",
          "height": 329
        },
        "outputId": "3462f6b5-e689-4013-8e4d-25a546f1517e"
      },
      "source": [
        "# TRAINING VS VALIDATION LOSS GRAPH\n",
        "plt.plot(history.history['loss'])\n",
        "plt.plot(history.history['val_loss'])\n",
        "plt.title('model train vs validation loss')\n",
        "plt.ylabel('loss')\n",
        "plt.xlabel('epoch')\n",
        "plt.legend(['train', 'validation'], loc='upper right')\n",
        "plt.show()\n",
        "\n",
        "predict=ensemble_model.predict(x_test_sequences).argmax(axis=-1)\n",
        "predict=[int(x+0.5) for x in predict]\n",
        "accuracy = accuracy_score(y_test, predict)\n",
        "f1=f1_score(y_test,predict)\n",
        "print(\"F1 Score: %.2f%%\" % (f1* 100.0))\n",
        "print(\"Accuracy: %.2f%%\" % (accuracy * 100.0))"
      ],
      "execution_count": null,
      "outputs": [
        {
          "output_type": "display_data",
          "data": {
            "image/png": "[encoded data removed]",
            "text/plain": [
              "<Figure size 864x288 with 1 Axes>"
            ]
          },
          "metadata": {
            "tags": [],
            "needs_background": "light"
          }
        },
        {
          "output_type": "stream",
          "text": [
            "F1 Score: 78.77%\n",
            "Accuracy: 77.87%\n"
          ],
          "name": "stdout"
        }
      ]
    }
  ]
}